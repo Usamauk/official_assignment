{
 "cells": [
  {
   "cell_type": "markdown",
   "metadata": {},
   "source": [
    "## 1. Calculate Area of a Circle"
   ]
  },
  {
   "cell_type": "markdown",
   "metadata": {},
   "source": [
    "#### Write a Python program which accepts the radius of a circle from the user and compute the area.\n",
    "###### Program Console Sample Output 1:\n",
    "###### Input Radius: 0.5\n",
    "###### Area of Circle with radius 0.5 is 0.7853981634"
   ]
  },
  {
   "cell_type": "code",
   "execution_count": 20,
   "metadata": {},
   "outputs": [
    {
     "name": "stdout",
     "output_type": "stream",
     "text": [
      "Enter radius of circle:0.5\n",
      "0.7855\n"
     ]
    }
   ],
   "source": [
    "Radius_of_circle = float (input(\"Enter radius of circle:\"))\n",
    "pi_radius = 3.142\n",
    "Result = pi_radius*Radius_of_circle**2\n",
    "print(Result)"
   ]
  },
  {
   "cell_type": "code",
   "execution_count": null,
   "metadata": {},
   "outputs": [],
   "source": []
  },
  {
   "cell_type": "markdown",
   "metadata": {},
   "source": [
    "## 2. Check Number either positive, negative or zero"
   ]
  },
  {
   "cell_type": "markdown",
   "metadata": {},
   "source": [
    "#### Write a Python program to check if a number is positive, negative or zero\n",
    "###### Program Console Sample Output 1:\n",
    "###### Enter Number: -1\n",
    "##### Negative Number Entered\n",
    "###### Program Console Sample Output 2:\n",
    "##### Integer: 3\n",
    "##### Positive Number Entered\n",
    "###### Program Console Sample Output 3:\n",
    "##### Integer: 0\n",
    "###### Zero Entered"
   ]
  },
  {
   "cell_type": "code",
   "execution_count": 5,
   "metadata": {},
   "outputs": [
    {
     "name": "stdout",
     "output_type": "stream",
     "text": [
      "Enter your number:-6\n",
      "negative number\n"
     ]
    }
   ],
   "source": [
    "number = float (input(\"Enter your number:\"))\n",
    "if number>=0:\n",
    "    print(\"positive number\")\n",
    "elif number<=0:\n",
    "    print (\"negative number\")\n",
    "elif number==0:\n",
    "    print (\"zero entered\")\n",
    "else:\n",
    "    print (\"uk\")"
   ]
  },
  {
   "cell_type": "code",
   "execution_count": null,
   "metadata": {},
   "outputs": [],
   "source": []
  },
  {
   "cell_type": "code",
   "execution_count": null,
   "metadata": {},
   "outputs": [],
   "source": []
  },
  {
   "cell_type": "code",
   "execution_count": null,
   "metadata": {},
   "outputs": [],
   "source": []
  },
  {
   "cell_type": "markdown",
   "metadata": {},
   "source": [
    "## 3. Divisibility Check of two numbers"
   ]
  },
  {
   "cell_type": "markdown",
   "metadata": {},
   "source": [
    "#### Write a Python program to check whether a number is completely divisible by another number. Accept two integer values form the user\n",
    "##### Program Console Sample Output 1:\n",
    "###### Enter numerator: 4\n",
    "###### Enter Denominator: 2\n",
    "##### Number 4 is Completely divisible by 2\n",
    "###### Program Console Sample Output 2:\n",
    "##### Enter numerator: 7\n",
    "\n",
    "##### Enter Denominator: 4\n",
    "###### Number 7 is not Completely divisible by 4"
   ]
  },
  {
   "cell_type": "code",
   "execution_count": 1,
   "metadata": {},
   "outputs": [
    {
     "name": "stdout",
     "output_type": "stream",
     "text": [
      "Enter your number:7\n",
      "Enter your number:4\n",
      "number7.0is not completelt divisible by 4.0\n"
     ]
    }
   ],
   "source": [
    "numerator= float (input(\"Enter your number:\"))\n",
    "Denominator = float (input(\"Enter your number:\"))\n",
    "result = (numerator%Denominator)\n",
    "if result == 0:\n",
    "    print(\"number\" + str (numerator)+ \" is completely divisible by \" + str (Denominator))\n",
    "else:\n",
    "    print (\"number\" + str (numerator)+ \"is not completelt divisible by \" + str (Denominator))"
   ]
  },
  {
   "cell_type": "markdown",
   "metadata": {},
   "source": [
    "## 4. Calculate Volume of a sphere"
   ]
  },
  {
   "cell_type": "markdown",
   "metadata": {},
   "source": [
    "##### Write a Python program to get the volume of a sphere, please take the radius as input from user"
   ]
  },
  {
   "cell_type": "markdown",
   "metadata": {},
   "source": [
    "##### Program Console Output:\n",
    "##### Enter Radius of Sphere: 1\n",
    "###### Volume of the Sphere with Radius 1 is 4.18"
   ]
  },
  {
   "cell_type": "code",
   "execution_count": 4,
   "metadata": {},
   "outputs": [
    {
     "name": "stdout",
     "output_type": "stream",
     "text": [
      "Enter Radius:1\n",
      "4.189333333333333\n"
     ]
    }
   ],
   "source": [
    "Radius = float (input(\"Enter Radius:\"))\n",
    "pi = 3.142\n",
    "volume=0\n",
    "volume = 4/3 *pi*Radius\n",
    "print(volume)"
   ]
  },
  {
   "cell_type": "markdown",
   "metadata": {},
   "source": [
    "# 5. Copy string n times\n",
    "#### Write a Python program to get a string which is n (non-negative integer) copies of a given string.\n",
    "##### Program Console Output:\n",
    "##### Enter String: Hi\n",
    "###### How many copies of String you need: 4\n",
    "###### 4 Copies of Hi are HiHiHiHi"
   ]
  },
  {
   "cell_type": "code",
   "execution_count": 11,
   "metadata": {},
   "outputs": [
    {
     "name": "stdout",
     "output_type": "stream",
     "text": [
      "Enter string:hi\n",
      "Enter copies:5\n",
      "hihihihihi\n"
     ]
    }
   ],
   "source": [
    "string = input(\"Enter string:\")\n",
    "copy = int (input(\"Enter copies:\"))\n",
    "result = string * copy\n",
    "print(result)"
   ]
  },
  {
   "cell_type": "markdown",
   "metadata": {},
   "source": []
  },
  {
   "cell_type": "code",
   "execution_count": null,
   "metadata": {},
   "outputs": [],
   "source": []
  },
  {
   "cell_type": "code",
   "execution_count": null,
   "metadata": {},
   "outputs": [],
   "source": []
  },
  {
   "cell_type": "code",
   "execution_count": null,
   "metadata": {},
   "outputs": [],
   "source": []
  },
  {
   "cell_type": "markdown",
   "metadata": {},
   "source": [
    "## 6. Check if number is Even or Odd\n",
    "### Write a Python program to find whether a given number (accept from the user) is even or odd, print out an appropriate message to the user\n",
    "#### Program Console Output 1:\n",
    "##### Enter Number: 4\n",
    "###### 4 is Even\n",
    "#### Program Console Output 2:\n",
    "##### Enter Number: 9\n",
    "###### 9 is Odd"
   ]
  },
  {
   "cell_type": "code",
   "execution_count": 3,
   "metadata": {},
   "outputs": [
    {
     "name": "stdout",
     "output_type": "stream",
     "text": [
      "Enter no check:11\n",
      "odd no\n"
     ]
    }
   ],
   "source": [
    "check = int(input(\"Enter no check:\"))\n",
    "if check%2==0:\n",
    "    print(\"Even\")\n",
    "else:\n",
    "    print (\"odd no\")"
   ]
  },
  {
   "cell_type": "code",
   "execution_count": null,
   "metadata": {},
   "outputs": [],
   "source": []
  },
  {
   "cell_type": "code",
   "execution_count": null,
   "metadata": {},
   "outputs": [],
   "source": []
  },
  {
   "cell_type": "code",
   "execution_count": null,
   "metadata": {},
   "outputs": [],
   "source": []
  },
  {
   "cell_type": "markdown",
   "metadata": {},
   "source": [
    "## 7. Vowel Tester\n",
    "### Write a Python program to test whether a passed letter is a vowel or not\n",
    "#### Program Console Output 1:\n",
    "##### Enter a character: A\n",
    "###### Letter A is Vowel\n",
    "#### Program Console Output 2:\n",
    "##### Enter a character: e\n",
    "###### Letter e is Vowel\n",
    "#### Program Console Output 2:\n",
    "##### Enter a character: N\n",
    "###### Letter N is not Vowel"
   ]
  },
  {
   "cell_type": "code",
   "execution_count": 15,
   "metadata": {},
   "outputs": [
    {
     "name": "stdout",
     "output_type": "stream",
     "text": [
      "Enter a vowel:e\n",
      "this vowel\n"
     ]
    }
   ],
   "source": [
    "vowel = (input(\"Enter a vowel:\")).upper()\n",
    "if vowel==\"A\" or vowel==\"E\" or vowel==\"I\" or vowel==\"O\" or vowel==\"U\":\n",
    "     print (\"this vowel\")\n",
    "else:\n",
    "    print (\"not vowel\")"
   ]
  },
  {
   "cell_type": "code",
   "execution_count": null,
   "metadata": {},
   "outputs": [],
   "source": []
  },
  {
   "cell_type": "code",
   "execution_count": null,
   "metadata": {},
   "outputs": [],
   "source": []
  },
  {
   "cell_type": "code",
   "execution_count": null,
   "metadata": {},
   "outputs": [],
   "source": []
  },
  {
   "cell_type": "markdown",
   "metadata": {},
   "source": [
    "## 8. Triangle area\n",
    "### Write a Python program that will accept the base and height of a triangle and compute the area\n",
    "###### Reference:\n",
    "https://www.mathgoodies.com/lessons/vol1/area_triangle"
   ]
  },
  {
   "cell_type": "markdown",
   "metadata": {},
   "source": []
  },
  {
   "cell_type": "code",
   "execution_count": 2,
   "metadata": {},
   "outputs": [
    {
     "name": "stdout",
     "output_type": "stream",
     "text": [
      "Enter no:6\n",
      "Enter no:7\n",
      "21.0\n"
     ]
    }
   ],
   "source": [
    "base = float(input(\"Enter no:\"))\n",
    "height = float (input(\"Enter no:\"))\n",
    "triangle = (height*base)/2\n",
    "print(triangle)"
   ]
  },
  {
   "cell_type": "code",
   "execution_count": null,
   "metadata": {},
   "outputs": [],
   "source": []
  },
  {
   "cell_type": "code",
   "execution_count": null,
   "metadata": {},
   "outputs": [],
   "source": [
    " 9. Calculate Interest\n",
    "    Write a Python program to compute the future value of a specified principal amount, rate of interest, and a number of years\n",
    "Program Console Sample 1:\n",
    "Please enter principal amount: 1000\n",
    "Please Enter Rate of interest in %: 0.1 Enter number of years for investment: \n",
    " 5 years your principal amount 10000 over an interest rate of 0.1 % will be 16105.1"
   ]
  },
  {
   "cell_type": "code",
   "execution_count": 1,
   "metadata": {},
   "outputs": [
    {
     "name": "stdout",
     "output_type": "stream",
     "text": [
      "Enter your principle amount:10000\n",
      "Enter your rate:1\n",
      "Enter investment:6\n",
      "After years 6 and principle_amount 10000 Enter rate 1.0 will be\n"
     ]
    }
   ],
   "source": [
    "principle_amount =int(input(\"Enter your principle amount:\"))\n",
    "Enter_rate = float(input(\"Enter your rate:\"))\n",
    "investment = int(input(\"Enter investment:\"))\n",
    "Result =(principle_amount *(1+ Enter_rate) ** investment)\n",
    "print(f\"After years {investment} and principle_amount {principle_amount} Enter rate {Enter_rate} will be\")"
   ]
  },
  {
   "cell_type": "code",
   "execution_count": null,
   "metadata": {},
   "outputs": [],
   "source": []
  },
  {
   "cell_type": "code",
   "execution_count": null,
   "metadata": {},
   "outputs": [],
   "source": []
  },
  {
   "cell_type": "code",
   "execution_count": null,
   "metadata": {},
   "outputs": [],
   "source": []
  },
  {
   "cell_type": "code",
   "execution_count": null,
   "metadata": {},
   "outputs": [],
   "source": []
  },
  {
   "cell_type": "code",
   "execution_count": null,
   "metadata": {},
   "outputs": [],
   "source": []
  },
  {
   "cell_type": "markdown",
   "metadata": {},
   "source": [
    "## 10. Euclidean distance\n",
    "### write a Python program to compute the distance between the points (x1, y1) and (x2, y2).\n",
    "#### Program Console Sample 1:\n",
    "###### Enter Co-ordinate for x1: 2\n",
    "###### Enter Co-ordinate for x2: 4\n",
    "###### Enter Co-ordinate for y1: 4\n",
    "###### Enter Co-ordinate for y2: 4\n",
    "###### Distance between points (2, 4) and (4, 4) is 2"
   ]
  },
  {
   "cell_type": "markdown",
   "metadata": {},
   "source": [
    "###### Reference:\n",
    "https://en.wikipedia.org/wiki/Euclidean_distance"
   ]
  },
  {
   "cell_type": "code",
   "execution_count": 6,
   "metadata": {},
   "outputs": [
    {
     "name": "stdout",
     "output_type": "stream",
     "text": [
      "Enter your co-ordinate x1:6\n",
      "Enter your co-ordinate x2:9\n",
      "Enter your co-ordinate y1:3\n",
      "Enter your co-ordinate y2:5\n",
      "13\n"
     ]
    }
   ],
   "source": [
    "x1 = int(input(\"Enter your co-ordinate x1:\"))\n",
    "x2 = int(input(\"Enter your co-ordinate x2:\"))\n",
    "y1 = int(input(\"Enter your co-ordinate y1:\"))\n",
    "y2 = int(input(\"Enter your co-ordinate y2:\"))\n",
    "Result = (x2-x1)*(x2-x1) + (y2-y1)* (y2-y1)\n",
    "print(Result)"
   ]
  },
  {
   "cell_type": "code",
   "execution_count": null,
   "metadata": {},
   "outputs": [],
   "source": []
  },
  {
   "cell_type": "code",
   "execution_count": null,
   "metadata": {},
   "outputs": [],
   "source": []
  },
  {
   "cell_type": "code",
   "execution_count": null,
   "metadata": {},
   "outputs": [],
   "source": []
  },
  {
   "cell_type": "markdown",
   "metadata": {},
   "source": [
    "## 11. Feet to Centimeter Converter\n",
    "### Write a Python program to convert height in feet to centimetres.\n",
    "##### Program Console Sample 1:\n",
    "###### Enter Height in Feet: 5\n",
    "###### There are 152.4 Cm in 5 ft\n",
    "###### Reference:\n",
    "https://www.rapidtables.com/convert/length/feet-to-cm.html"
   ]
  },
  {
   "cell_type": "code",
   "execution_count": 3,
   "metadata": {},
   "outputs": [
    {
     "name": "stdout",
     "output_type": "stream",
     "text": [
      "Enter your height:8\n",
      "Enter your centimeter:243.84\n",
      "there is height 8.0 and centimeter is 243.84\n"
     ]
    }
   ],
   "source": [
    "height = float(input(\"Enter your height:\"))\n",
    "centimeter = float(input(\"Enter your centimeter:\"))\n",
    "Result = (f\"there is height {height} and centimeter is {centimeter}\")\n",
    "print (Result)"
   ]
  },
  {
   "cell_type": "markdown",
   "metadata": {},
   "source": []
  },
  {
   "cell_type": "code",
   "execution_count": null,
   "metadata": {},
   "outputs": [],
   "source": []
  },
  {
   "cell_type": "markdown",
   "metadata": {},
   "source": [
    "12. BMI Calculator\n",
    " Write a Python program to calculate body mass index\n",
    "Program Console Sample 1:\n",
    "Enter Height in Cm: 180\n",
    "Enter Weight in Kg: 75\n",
    "Your BMI is 23.15"
   ]
  },
  {
   "cell_type": "code",
   "execution_count": 1,
   "metadata": {},
   "outputs": [
    {
     "name": "stdout",
     "output_type": "stream",
     "text": [
      "Enter height in cm:134\n",
      "Enter weight in kg:5\n",
      "13.4\n"
     ]
    }
   ],
   "source": [
    "Enter_height = float(input(\"Enter height in cm:\"))\n",
    "Enter_weight = float(input(\"Enter weight in kg:\"))\n",
    "Enter_height = Enter_height/100\n",
    "result = Enter_weight * Enter_height*2\n",
    "print(result)\n"
   ]
  },
  {
   "cell_type": "markdown",
   "metadata": {},
   "source": []
  },
  {
   "cell_type": "code",
   "execution_count": null,
   "metadata": {},
   "outputs": [],
   "source": []
  },
  {
   "cell_type": "markdown",
   "metadata": {},
   "source": [
    "## 13. Sum of n Positive Integers\n",
    "### Write a python program to sum of the first n positive integers\n",
    "#### Program Console Sample 1:\n",
    "###### Enter value of n: 5\n",
    "###### Sum of n Positive integers till 5 is 15"
   ]
  },
  {
   "cell_type": "code",
   "execution_count": 5,
   "metadata": {},
   "outputs": [
    {
     "name": "stdout",
     "output_type": "stream",
     "text": [
      "Enter value of n:5\n",
      "sum of positive intigers till  5.0 is  15.0\n"
     ]
    }
   ],
   "source": [
    "n = float(input(\"Enter value of n:\"))\n",
    "sum_of_n_integers = n * (n+1) //2\n",
    "print(f\"sum of positive intigers till  {n} is  {sum_of_n_integers}\")\n",
    "      "
   ]
  },
  {
   "cell_type": "code",
   "execution_count": null,
   "metadata": {},
   "outputs": [],
   "source": []
  },
  {
   "cell_type": "markdown",
   "metadata": {},
   "source": []
  },
  {
   "cell_type": "markdown",
   "metadata": {},
   "source": [
    "## 14. Digits Sum of a Number\n",
    "### Write a Python program to calculate the sum of the digits in an integer\n",
    "#### Program Console Sample 1:\n",
    "##### Enter a number: 15\n",
    "###### Sum of 1 + 5 is 6\n",
    "#### Program Console Sample 2:\n",
    "##### Enter a number: 1234\n",
    "###### Sum of 1 + 2 + 3 + 4 is 10"
   ]
  },
  {
   "cell_type": "code",
   "execution_count": 2,
   "metadata": {},
   "outputs": [
    {
     "name": "stdout",
     "output_type": "stream",
     "text": [
      "Enter a no:4567\n",
      "4\n",
      "5\n",
      "6\n",
      "7\n",
      "the sum of digits 4567 in the number is 22\n"
     ]
    }
   ],
   "source": [
    "no = int(input(\"Enter a no:\"))\n",
    "no1 = no //1000\n",
    "print (no1)\n",
    "no2 = (no - no1*1000)//100\n",
    "print (no2)\n",
    "no3 = (no - no1*1000 - no2*100)//10\n",
    "print (no3)\n",
    "no4 = no - no1*1000 - no2*100 - no3*10\n",
    "print (no4)\n",
    "\n",
    "print(\"the sum of digits \" + str (no) + \" in the number is\" , no1+no2+no3+no4,)"
   ]
  },
  {
   "cell_type": "code",
   "execution_count": null,
   "metadata": {},
   "outputs": [],
   "source": []
  },
  {
   "cell_type": "code",
   "execution_count": null,
   "metadata": {},
   "outputs": [],
   "source": []
  },
  {
   "cell_type": "code",
   "execution_count": null,
   "metadata": {},
   "outputs": [],
   "source": []
  },
  {
   "cell_type": "code",
   "execution_count": null,
   "metadata": {},
   "outputs": [],
   "source": []
  },
  {
   "cell_type": "code",
   "execution_count": null,
   "metadata": {},
   "outputs": [],
   "source": []
  },
  {
   "cell_type": "code",
   "execution_count": null,
   "metadata": {},
   "outputs": [],
   "source": []
  },
  {
   "cell_type": "code",
   "execution_count": null,
   "metadata": {},
   "outputs": [],
   "source": []
  }
 ],
 "metadata": {
  "kernelspec": {
   "display_name": "Python 3",
   "language": "python",
   "name": "python3"
  },
  "language_info": {
   "codemirror_mode": {
    "name": "ipython",
    "version": 3
   },
   "file_extension": ".py",
   "mimetype": "text/x-python",
   "name": "python",
   "nbconvert_exporter": "python",
   "pygments_lexer": "ipython3",
   "version": "3.7.3"
  }
 },
 "nbformat": 4,
 "nbformat_minor": 2
}
